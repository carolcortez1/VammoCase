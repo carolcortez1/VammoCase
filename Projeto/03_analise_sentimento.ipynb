{
 "cells": [
  {
   "cell_type": "markdown",
   "metadata": {},
   "source": [
    "# Atendimento ao Cliente - Analise de sentimentos \n",
    "\n",
    "## Resumo\n",
    "\n",
    "Na no canal de atendimento ao cliente da Vammo existe uma pergunta de campo aberto que possibilita o avaliador adicionar um comentário (campo aberto). \n",
    "\n",
    "O objetivo é utilizar a [API Google NLP](https://cloud.google.com/natural-language/docs/analyzing-sentiment?hl=pt-br) (modelo pré-treinado) para identificar o `sentimento` dos comentários, onde cada comentário terá uma polaridade atribuída conforme abaixo:\n",
    "\n",
    "<p align=\"center\">\n",
    "<img src=\"https://centricconsulting.com/wp-content/uploads/2022/08/Blog_DA_Sentiment_Customer_08052022.png\" alt=\"drawing\" width=\"500\" />\n",
    "</p>\n",
    "\n",
    "> Obs.: Não será realizada análise de emoções. Análise de emoções é um método utilizado para classificar uma emoções específicas, como raiva, surpresa, felicidade e etc, presentes em um comentário.\n",
    "\n"
   ]
  },
  {
   "cell_type": "markdown",
   "metadata": {},
   "source": [
    "**Importar bibliotecas**"
   ]
  },
  {
   "cell_type": "code",
   "execution_count": 3,
   "metadata": {},
   "outputs": [],
   "source": [
    "import os\n",
    "import pandas as pd\n",
    "from google.oauth2 import service_account\n",
    "from google.cloud import language_v2, storage\n",
    "import numpy as np"
   ]
  },
  {
   "cell_type": "markdown",
   "metadata": {},
   "source": [
    "**Credenciamento na conta de serviço do google**"
   ]
  },
  {
   "cell_type": "code",
   "execution_count": 4,
   "metadata": {},
   "outputs": [],
   "source": [
    "# Usar as credenciais para criar um cliente do Google Cloud Storage\n",
    "client = storage.Client()"
   ]
  },
  {
   "cell_type": "markdown",
   "metadata": {},
   "source": [
    "**Extraindo os dados e filtrando atendimentos comentados**"
   ]
  },
  {
   "cell_type": "code",
   "execution_count": 12,
   "metadata": {},
   "outputs": [
    {
     "name": "stdout",
     "output_type": "stream",
     "text": [
      "Extraindo comentarios..\n"
     ]
    },
    {
     "data": {
      "text/html": [
       "<div>\n",
       "<style scoped>\n",
       "    .dataframe tbody tr th:only-of-type {\n",
       "        vertical-align: middle;\n",
       "    }\n",
       "\n",
       "    .dataframe tbody tr th {\n",
       "        vertical-align: top;\n",
       "    }\n",
       "\n",
       "    .dataframe thead th {\n",
       "        text-align: right;\n",
       "    }\n",
       "</style>\n",
       "<table border=\"1\" class=\"dataframe\">\n",
       "  <thead>\n",
       "    <tr style=\"text-align: right;\">\n",
       "      <th></th>\n",
       "      <th>token</th>\n",
       "      <th>text</th>\n",
       "      <th>csat</th>\n",
       "    </tr>\n",
       "  </thead>\n",
       "  <tbody>\n",
       "    <tr>\n",
       "      <th>10</th>\n",
       "      <td>66e38bb7c92bc50e890eda22</td>\n",
       "      <td>Ótimo atendimento</td>\n",
       "      <td>5.0</td>\n",
       "    </tr>\n",
       "    <tr>\n",
       "      <th>15</th>\n",
       "      <td>66e37d74c92bc50e890e9f4e</td>\n",
       "      <td>RAPIDO \\n</td>\n",
       "      <td>5.0</td>\n",
       "    </tr>\n",
       "    <tr>\n",
       "      <th>22</th>\n",
       "      <td>66e370411944e0bb7b370fcb</td>\n",
       "      <td>Agilidade no atendimento</td>\n",
       "      <td>4.0</td>\n",
       "    </tr>\n",
       "    <tr>\n",
       "      <th>31</th>\n",
       "      <td>66e35c66b4914b6c8e9af332</td>\n",
       "      <td>Ótimo atendimento</td>\n",
       "      <td>5.0</td>\n",
       "    </tr>\n",
       "  </tbody>\n",
       "</table>\n",
       "</div>"
      ],
      "text/plain": [
       "                       token                      text  csat\n",
       "10  66e38bb7c92bc50e890eda22        Ótimo atendimento    5.0\n",
       "15  66e37d74c92bc50e890e9f4e                 RAPIDO \\n   5.0\n",
       "22  66e370411944e0bb7b370fcb  Agilidade no atendimento   4.0\n",
       "31  66e35c66b4914b6c8e9af332        Ótimo atendimento    5.0"
      ]
     },
     "execution_count": 12,
     "metadata": {},
     "output_type": "execute_result"
    }
   ],
   "source": [
    "# Extraindo comentarios\n",
    "print(\"Extraindo comentarios..\")\n",
    "\n",
    "# Dirertorio de tabelas auxiliares\n",
    "aux_file_path = os.path.join(os.getcwd(), 'tabelas_auxiliares') \n",
    "\n",
    "# Caminho do arquivo\n",
    "file_path = os.path.join(aux_file_path, 'atendimento_last2m_tratado_bool_outliers.xlsx')\n",
    "\n",
    "# Carregar o arquivo CSV\n",
    "df_orig = pd.read_excel(file_path)\n",
    "\n",
    "# Filtrar as colunas desejadas\n",
    "df = df_orig[['id', 'satisfaction_Answer', 'satisfaction_rating', 'satisfaction_status']]\n",
    "\n",
    "# Selecionar apenas as linhas onde satisfaction_status é 'commented'\n",
    "df = df[df['satisfaction_status'] == 'commented']\n",
    "\n",
    "# Remover a coluna 'satisfaction_status' já que não é mais necessária\n",
    "df = df.drop(columns=['satisfaction_status'])\n",
    "\n",
    "# Renomear as colunas\n",
    "df = df.rename(columns={\n",
    "    'id': 'token',\n",
    "    'satisfaction_rating': 'csat',\n",
    "    'satisfaction_Answer': 'text'\n",
    "})\n",
    "\n",
    "# Exibir o DataFrame filtrado\n",
    "df.head(4)"
   ]
  },
  {
   "cell_type": "markdown",
   "metadata": {},
   "source": [
    "**Definindo funções**"
   ]
  },
  {
   "cell_type": "code",
   "execution_count": 6,
   "metadata": {},
   "outputs": [],
   "source": [
    "def analyze_sentiments(text_content):\n",
    "\n",
    "    list_docs = list()\n",
    "    list_sents = list()\n",
    "\n",
    "    # Instantiates a client\n",
    "    client = language_v2.LanguageServiceClient()\n",
    "    for idx in text_content.index:        \n",
    "        text = text_content.loc[idx]\n",
    "        if len(text) > 5:\n",
    "            type_ = language_v2.Document.Type.PLAIN_TEXT\n",
    "            document = {\"content\":text, \"type_\":type_}\n",
    "            encoding_type = language_v2.EncodingType.UTF8\n",
    "            response = client.analyze_sentiment(request = {'document':document, 'encoding_type':encoding_type})\n",
    "            # document_sentiment: Sentimento do texto completo\n",
    "            document_sentiment = response.document_sentiment\n",
    "            magnitude = document_sentiment.magnitude\n",
    "            score = document_sentiment.score\n",
    "            dict_doc = {'token': idx, 'text': text, 'magnitude':magnitude, 'score':score}\n",
    "            # sentences: Sentimentos por sentença do texto\n",
    "            sentences = response.sentences\n",
    "            for i in range(len(sentences)):        \n",
    "                text = sentences[i].text.content\n",
    "                magnitude = sentences[i].sentiment.magnitude\n",
    "                score = sentences[i].sentiment.score\n",
    "                begin_offset = 0 if i==0 else sentences[i].text.begin_offset\n",
    "                dict_sent = {'token': idx, 'row':i, 'text':text, 'magnitude':magnitude, 'score':score, 'begin_offset':begin_offset}\n",
    "                list_sents.append(dict_sent)\n",
    "        else:\n",
    "            dict_doc = {'token': idx, 'text': text, 'magnitude':0, 'score':0}\n",
    "        list_docs.append(dict_doc)\n",
    "    return {'document_sentiments':list_docs, 'sentences_sentiments':list_sents}\n",
    "\n",
    "def sentiment_classify_v2(text, csat, score, magnitude):\n",
    "\n",
    "    csat, score, magnitude = int(csat),  round(float(score), 2), round(float(magnitude), 2)    \n",
    "    n_caracteres = len(text)\n",
    "    # CARACTERES\n",
    "    if n_caracteres < 4:\n",
    "        class_ = 'Indefinido'\n",
    "    elif n_caracteres <= 15:\n",
    "        if csat > 3:\n",
    "            class_ = 'Positivo'\n",
    "        elif csat > 2:\n",
    "            class_ = 'Neutro'\n",
    "        else:\n",
    "            class_ = 'Negativo' \n",
    "    # csat PROMOTORES\n",
    "    elif csat > 3:\n",
    "        # score negativo\n",
    "        if score < 0:\n",
    "            if score <= -0.3:\n",
    "                class_ = 'Negativo'\n",
    "            elif score > -0.3:\n",
    "                class_ = 'Misto'\n",
    "                    ## TO DO: comentário like 'fora da curva'\n",
    "        # score zero\n",
    "        elif score == 0:\n",
    "            if magnitude == 0: \n",
    "                class_ = 'Neutro'\n",
    "            else:\n",
    "                class_ = 'Misto'\n",
    "        # score positivo\n",
    "        else:\n",
    "            class_ = 'Positivo'\n",
    "    # csat NEUTROS\n",
    "    elif csat > 2:\n",
    "        # score negativo\n",
    "        if score < 0:\n",
    "            class_ = 'Negativo'\n",
    "        # score zero\n",
    "        elif score == 0:\n",
    "            if magnitude == 0:\n",
    "                class_ = 'Misto'\n",
    "            else:\n",
    "                class_ = 'Negativo'\n",
    "        # score positivo\n",
    "        else:\n",
    "            if score <= 0.2 and magnitude >= 0.8:\n",
    "                class_ = 'Negativo'\n",
    "            elif score > 0.2 and magnitude >= 0.8:\n",
    "                class_ = 'Positivo'\n",
    "            elif score <= 0.3:\n",
    "                class_ = 'Neutro'\n",
    "            elif score > 0.3 and score <= 0.5:\n",
    "                class_ = 'Misto'\n",
    "            else:\n",
    "                class_ = 'Positivo'\n",
    "    # csat DETRATORES\n",
    "    elif csat <=2:\n",
    "        if score >= 0.3:\n",
    "            class_ = 'Misto'\n",
    "        else:\n",
    "            class_ = 'Negativo'\n",
    "    return class_"
   ]
  },
  {
   "cell_type": "markdown",
   "metadata": {},
   "source": [
    "**Classificação dos sentimentos**"
   ]
  },
  {
   "cell_type": "code",
   "execution_count": 7,
   "metadata": {},
   "outputs": [
    {
     "name": "stdout",
     "output_type": "stream",
     "text": [
      "Aplicando API nos comentarios..\n"
     ]
    },
    {
     "name": "stdout",
     "output_type": "stream",
     "text": [
      "Identificando sentimentos..\n"
     ]
    }
   ],
   "source": [
    "# Supondo que df já esteja carregado e tenha as colunas ['token', 'text', 'csat']\n",
    "df.columns = ['token', 'text', 'csat']\n",
    "\n",
    "text_content = df.set_index('token').text\n",
    "\n",
    "# Aplicando API google para analise de sentimentos \n",
    "print(\"Aplicando API nos comentarios..\")\n",
    "response = analyze_sentiments(text_content)\n",
    "\n",
    "# Criando dataframes para sentimentos: DOC e SENT\n",
    "document_sentiments = pd.DataFrame(response['document_sentiments'])\n",
    "sentences_sentiments = pd.DataFrame(response['sentences_sentiments'])\n",
    "\n",
    "# Aplicando função em DOC para extrair sentimentos\n",
    "print(\"Identificando sentimentos..\")\n",
    "document_sentiments = pd.merge(document_sentiments, df[['token', 'csat']])\n"
   ]
  },
  {
   "cell_type": "code",
   "execution_count": 11,
   "metadata": {},
   "outputs": [
    {
     "data": {
      "text/html": [
       "<div>\n",
       "<style scoped>\n",
       "    .dataframe tbody tr th:only-of-type {\n",
       "        vertical-align: middle;\n",
       "    }\n",
       "\n",
       "    .dataframe tbody tr th {\n",
       "        vertical-align: top;\n",
       "    }\n",
       "\n",
       "    .dataframe thead th {\n",
       "        text-align: right;\n",
       "    }\n",
       "</style>\n",
       "<table border=\"1\" class=\"dataframe\">\n",
       "  <thead>\n",
       "    <tr style=\"text-align: right;\">\n",
       "      <th></th>\n",
       "      <th>token</th>\n",
       "      <th>text</th>\n",
       "      <th>magnitude</th>\n",
       "      <th>score</th>\n",
       "      <th>csat</th>\n",
       "      <th>sentiment</th>\n",
       "    </tr>\n",
       "  </thead>\n",
       "  <tbody>\n",
       "    <tr>\n",
       "      <th>0</th>\n",
       "      <td>66e38bb7c92bc50e890eda22</td>\n",
       "      <td>Ótimo atendimento</td>\n",
       "      <td>0.947</td>\n",
       "      <td>0.870</td>\n",
       "      <td>5.0</td>\n",
       "      <td>Positivo</td>\n",
       "    </tr>\n",
       "    <tr>\n",
       "      <th>1</th>\n",
       "      <td>66e37d74c92bc50e890e9f4e</td>\n",
       "      <td>RAPIDO \\n</td>\n",
       "      <td>0.888</td>\n",
       "      <td>0.626</td>\n",
       "      <td>5.0</td>\n",
       "      <td>Positivo</td>\n",
       "    </tr>\n",
       "    <tr>\n",
       "      <th>2</th>\n",
       "      <td>66e370411944e0bb7b370fcb</td>\n",
       "      <td>Agilidade no atendimento</td>\n",
       "      <td>0.929</td>\n",
       "      <td>0.853</td>\n",
       "      <td>4.0</td>\n",
       "      <td>Positivo</td>\n",
       "    </tr>\n",
       "    <tr>\n",
       "      <th>3</th>\n",
       "      <td>66e35c66b4914b6c8e9af332</td>\n",
       "      <td>Ótimo atendimento</td>\n",
       "      <td>0.947</td>\n",
       "      <td>0.870</td>\n",
       "      <td>5.0</td>\n",
       "      <td>Positivo</td>\n",
       "    </tr>\n",
       "  </tbody>\n",
       "</table>\n",
       "</div>"
      ],
      "text/plain": [
       "                      token                      text  magnitude  score  csat  \\\n",
       "0  66e38bb7c92bc50e890eda22        Ótimo atendimento       0.947  0.870   5.0   \n",
       "1  66e37d74c92bc50e890e9f4e                 RAPIDO \\n      0.888  0.626   5.0   \n",
       "2  66e370411944e0bb7b370fcb  Agilidade no atendimento      0.929  0.853   4.0   \n",
       "3  66e35c66b4914b6c8e9af332        Ótimo atendimento       0.947  0.870   5.0   \n",
       "\n",
       "  sentiment  \n",
       "0  Positivo  \n",
       "1  Positivo  \n",
       "2  Positivo  \n",
       "3  Positivo  "
      ]
     },
     "execution_count": 11,
     "metadata": {},
     "output_type": "execute_result"
    }
   ],
   "source": [
    "document_sentiments['sentiment'] = document_sentiments.apply(lambda df: sentiment_classify_v2(df.text,\n",
    "                                                                                              df.csat,\n",
    "                                                                                              df.score,\n",
    "                                                                                              df.magnitude), axis=1)\n",
    "\n",
    "document_sentiments.head(4)\n"
   ]
  },
  {
   "cell_type": "code",
   "execution_count": null,
   "metadata": {},
   "outputs": [],
   "source": []
  }
 ],
 "metadata": {
  "kernelspec": {
   "display_name": "Python 3",
   "language": "python",
   "name": "python3"
  },
  "language_info": {
   "codemirror_mode": {
    "name": "ipython",
    "version": 3
   },
   "file_extension": ".py",
   "mimetype": "text/x-python",
   "name": "python",
   "nbconvert_exporter": "python",
   "pygments_lexer": "ipython3",
   "version": "3.11.9"
  }
 },
 "nbformat": 4,
 "nbformat_minor": 2
}
